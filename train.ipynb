{
 "cells": [
  {
   "cell_type": "code",
   "execution_count": 18,
   "id": "fd8d5276",
   "metadata": {},
   "outputs": [],
   "source": [
    "import keras\n",
    "import tensorflow as tf\n",
    "import matplotlib.pyplot as plt\n",
    "import numpy as np"
   ]
  },
  {
   "attachments": {},
   "cell_type": "markdown",
   "id": "2de52853",
   "metadata": {},
   "source": [
    "### Load Data and PreProcess"
   ]
  },
  {
   "cell_type": "code",
   "execution_count": 19,
   "id": "5114a2ee",
   "metadata": {},
   "outputs": [],
   "source": [
    "(x_train, y_train), (x_test, y_test) = tf.keras.datasets.mnist.load_data(path = \"mnist.npz\")\n",
    "x_train = x_train / 255 #Normalize train\n",
    "x_test = x_test /255 #Normalize test\n",
    "x_train = x_train.reshape(x_train.shape[0], 28, 28, 1)\n",
    "x_test = x_test.reshape(x_test.shape[0], 28, 28, 1)"
   ]
  },
  {
   "attachments": {},
   "cell_type": "markdown",
   "id": "be0caec9",
   "metadata": {},
   "source": [
    "### Build and Compile Model"
   ]
  },
  {
   "cell_type": "code",
   "execution_count": 20,
   "id": "fabc0a90",
   "metadata": {},
   "outputs": [],
   "source": [
    "model = keras.models.Sequential([ keras.layers.Conv2D(28, kernel_size=(3,3), input_shape = x_train.shape[1:]),\n",
    "                                 keras.layers.MaxPooling2D(),\n",
    "                                 keras.layers.Flatten(),\n",
    "                                 keras.layers.Dense(128, activation='relu'),\n",
    "                                 keras.layers.Dense(10, activation='softmax')])\n",
    "model.compile(optimizer = 'adam', loss = 'sparse_categorical_crossentropy', metrics = ['accuracy'])\n"
   ]
  },
  {
   "attachments": {},
   "cell_type": "markdown",
   "id": "8ac204c9",
   "metadata": {},
   "source": [
    "### Train Model"
   ]
  },
  {
   "cell_type": "code",
   "execution_count": 22,
   "id": "889b818e",
   "metadata": {},
   "outputs": [
    {
     "name": "stdout",
     "output_type": "stream",
     "text": [
      "Epoch 1/11\n",
      "1875/1875 [==============================] - 4s 2ms/step - loss: 0.0342 - accuracy: 0.9888\n",
      "Epoch 2/11\n",
      "1875/1875 [==============================] - 4s 2ms/step - loss: 0.0215 - accuracy: 0.9930\n",
      "Epoch 3/11\n",
      "1875/1875 [==============================] - 4s 2ms/step - loss: 0.0163 - accuracy: 0.9948\n",
      "Epoch 4/11\n",
      "1875/1875 [==============================] - 4s 2ms/step - loss: 0.0118 - accuracy: 0.9958\n",
      "Epoch 5/11\n",
      "1875/1875 [==============================] - 4s 2ms/step - loss: 0.0099 - accuracy: 0.9965\n",
      "Epoch 6/11\n",
      "1875/1875 [==============================] - 4s 2ms/step - loss: 0.0080 - accuracy: 0.9973\n",
      "Epoch 7/11\n",
      "1875/1875 [==============================] - 4s 2ms/step - loss: 0.0078 - accuracy: 0.9973\n",
      "Epoch 8/11\n",
      "1875/1875 [==============================] - 4s 2ms/step - loss: 0.0065 - accuracy: 0.9979\n",
      "Epoch 9/11\n",
      "1875/1875 [==============================] - 4s 2ms/step - loss: 0.0071 - accuracy: 0.9978\n",
      "Epoch 10/11\n",
      "1875/1875 [==============================] - 4s 2ms/step - loss: 0.0039 - accuracy: 0.9988\n",
      "Epoch 11/11\n",
      "1875/1875 [==============================] - 4s 2ms/step - loss: 0.0065 - accuracy: 0.9980: 0s - loss: 0.0065 - accuracy: \n"
     ]
    },
    {
     "data": {
      "text/plain": [
       "<keras.callbacks.History at 0x1e018c41e50>"
      ]
     },
     "execution_count": 22,
     "metadata": {},
     "output_type": "execute_result"
    }
   ],
   "source": [
    "model.fit(x_train, y_train, epochs=11)"
   ]
  },
  {
   "attachments": {},
   "cell_type": "markdown",
   "id": "a75b57ed",
   "metadata": {},
   "source": [
    "### Save Model"
   ]
  },
  {
   "cell_type": "code",
   "execution_count": null,
   "id": "ae3dd69d",
   "metadata": {},
   "outputs": [
    {
     "name": "stdout",
     "output_type": "stream",
     "text": [
      "INFO:tensorflow:Assets written to: savedModel\\assets\n"
     ]
    }
   ],
   "source": [
    "model.save('savedModel')"
   ]
  }
 ],
 "metadata": {
  "kernelspec": {
   "display_name": "base",
   "language": "python",
   "name": "python3"
  },
  "language_info": {
   "codemirror_mode": {
    "name": "ipython",
    "version": 3
   },
   "file_extension": ".py",
   "mimetype": "text/x-python",
   "name": "python",
   "nbconvert_exporter": "python",
   "pygments_lexer": "ipython3",
   "version": "3.8.8"
  },
  "vscode": {
   "interpreter": {
    "hash": "ad2bdc8ecc057115af97d19610ffacc2b4e99fae6737bb82f5d7fb13d2f2c186"
   }
  }
 },
 "nbformat": 4,
 "nbformat_minor": 5
}
